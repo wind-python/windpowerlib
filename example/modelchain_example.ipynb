{
 "cells": [
  {
   "cell_type": "markdown",
   "metadata": {},
   "source": [
    "SPDX-FileCopyrightText: 2019 oemof developer group <contact@oemof.org>\n",
    "\n",
    "SPDX-License-Identifier: MIT\n",
    "\n",
    "SPDX-License-Identifier: CC-BY-4.0"
   ]
  },
  {
   "cell_type": "markdown",
   "metadata": {},
   "source": [
    "# ModelChain example\n",
    "\n",
    "This example shows you the basic usage of the windpowerlib by using the ``ModelChain`` class.\n",
    "There are mainly three steps. First you have to import your weather data, then you need to specify your wind turbine, and in the last step call the windpowerlib functions to calculate the feed-in time series.\n",
    "\n",
    "Before you start you have to import the packages needed for these steps."
   ]
  },
  {
   "cell_type": "markdown",
   "metadata": {},
   "source": [
    "### Import necessary packages and modules"
   ]
  },
  {
   "cell_type": "code",
   "execution_count": 1,
   "metadata": {},
   "outputs": [],
   "source": [
    "import os\n",
    "import pandas as pd\n",
    "import requests\n",
    "\n",
    "from windpowerlib import ModelChain, WindTurbine, create_power_curve\n",
    "from windpowerlib import data as wt"
   ]
  },
  {
   "cell_type": "markdown",
   "metadata": {},
   "source": [
    "You can use the logging package to get logging messages from the windpowerlib. Change the logging level if you want more or less messages."
   ]
  },
  {
   "cell_type": "code",
   "execution_count": 2,
   "metadata": {},
   "outputs": [],
   "source": [
    "import logging\n",
    "logging.getLogger().setLevel(logging.DEBUG)"
   ]
  },
  {
   "cell_type": "markdown",
   "metadata": {},
   "source": [
    "### Import weather data\n",
    "\n",
    "In order to use the windpowerlib you need to at least provide wind speed data for the time frame you want to analyze.\n",
    "The function below imports example weather data from the weather.csv file provided along with the windpowerlib. The data includes wind speed at two different heights in m/s, air temperature in two different heights in K, surface roughness length in m and air pressure in Pa.\n",
    "\n",
    "To find out which weather data in which units need to be provided to use the ModelChain or other functions of the windpowerlib see the individual function documentation."
   ]
  },
  {
   "cell_type": "code",
   "execution_count": 3,
   "metadata": {},
   "outputs": [
    {
     "name": "stdout",
     "output_type": "stream",
     "text": [
      "variable_name             wind_speed          temperature         pressure\n",
      "height                            10       80           2      10        0\n",
      "2010-01-01 00:00:00+01:00    5.32697  7.80697      267.60  267.57  98405.7\n",
      "2010-01-01 01:00:00+01:00    5.46199  7.86199      267.60  267.55  98382.7\n",
      "2010-01-01 02:00:00+01:00    5.67899  8.59899      267.61  267.54  98362.9\n"
     ]
    }
   ],
   "source": [
    "def get_weather_data(filename='weather.csv', **kwargs):\n",
    "    r\"\"\"\n",
    "    Imports weather data from a file.\n",
    "\n",
    "    The data include wind speed at two different heights in m/s, air\n",
    "    temperature in two different heights in K, surface roughness length in m\n",
    "    and air pressure in Pa. The height in m for which the data applies is\n",
    "    specified in the second row.\n",
    "    In case no weather data file exists, an example weather data file is \n",
    "    automatically downloaded and stored in the same directory as this example.\n",
    "\n",
    "    Parameters\n",
    "    ----------\n",
    "    filename : str\n",
    "        Filename of the weather data file. Default: 'weather.csv'.\n",
    "\n",
    "    Other Parameters\n",
    "    ----------------\n",
    "    datapath : str, optional\n",
    "        Path where the weather data file is stored.\n",
    "        Default is the same directory this example is stored in.\n",
    "\n",
    "    Returns\n",
    "    -------\n",
    "    :pandas:`pandas.DataFrame<frame>`\n",
    "        DataFrame with time series for wind speed `wind_speed` in m/s,\n",
    "        temperature `temperature` in K, roughness length `roughness_length`\n",
    "        in m, and pressure `pressure` in Pa.\n",
    "        The columns of the DataFrame are a MultiIndex where the first level\n",
    "        contains the variable name as string (e.g. 'wind_speed') and the\n",
    "        second level contains the height as integer at which it applies\n",
    "        (e.g. 10, if it was measured at a height of 10 m). The index is a \n",
    "        DateTimeIndex.\n",
    "\n",
    "    \"\"\"\n",
    "\n",
    "    if 'datapath' not in kwargs:\n",
    "        kwargs['datapath'] = os.path.dirname(__file__)\n",
    "    \n",
    "    file = os.path.join(kwargs['datapath'], filename)\n",
    "    \n",
    "    # download example weather data file in case it does not yet exist\n",
    "    if not os.path.isfile(file):\n",
    "        logging.debug(\"Download weather data for example.\")\n",
    "        req = requests.get(\"https://osf.io/59bqn/download\")\n",
    "        with open(file, \"wb\") as fout:\n",
    "            fout.write(req.content)\n",
    "            \n",
    "    # read csv file \n",
    "    weather_df = pd.read_csv(\n",
    "        file,\n",
    "        index_col=0,\n",
    "        header=[0, 1],\n",
    "    )\n",
    "    weather_df.index = pd.to_datetime(weather_df.index, utc=True)\n",
    "    \n",
    "    # change time zone\n",
    "    weather_df.index = weather_df.index.tz_convert(\n",
    "        'Europe/Berlin')\n",
    "    \n",
    "    return weather_df\n",
    "\n",
    "\n",
    "# Read weather data from csv\n",
    "weather = get_weather_data(filename='weather.csv', datapath='')\n",
    "print(weather[['wind_speed', 'temperature', 'pressure']][0:3])"
   ]
  },
  {
   "cell_type": "markdown",
   "metadata": {},
   "source": [
    "### Initialize wind turbine"
   ]
  },
  {
   "cell_type": "markdown",
   "metadata": {},
   "source": [
    "There are three ways to initialize a WindTurbine object in the windpowerlib. You can either use turbine data from the OpenEnergy Database (oedb) turbine library that is provided along with the windpowerlib, as done for the 'enercon_e126', or specify your own turbine by directly providing a power (coefficient) curve, as done below for 'my_turbine', or provide your own turbine data in csv files, as done for 'my_turbine2'.\n",
    "\n",
    "You can execute the following to get a table of all wind turbines for which power and/or power coefficient curves are provided."
   ]
  },
  {
   "cell_type": "code",
   "execution_count": 4,
   "metadata": {},
   "outputs": [
    {
     "name": "stdout",
     "output_type": "stream",
     "text": [
      "   manufacturer turbine_type  has_power_curve  has_cp_curve\n",
      "1       Enercon   E-101/3050             True          True\n",
      "2       Enercon   E-101/3500             True          True\n",
      "3       Enercon   E-115/3000             True          True\n",
      "4       Enercon   E-115/3200             True          True\n",
      "5       Enercon   E-126/4200             True          True\n",
      "6       Enercon   E-126/7500             True         False\n",
      "7       Enercon   E-126/7580             True         False\n",
      "8       Enercon   E-141/4200             True          True\n",
      "9       Enercon     E-53/800             True          True\n",
      "10      Enercon    E-70/2000             True         False\n",
      "11      Enercon    E-70/2300             True          True\n",
      "12      Enercon    E-82/2000             True          True\n",
      "13      Enercon    E-82/2300             True          True\n",
      "14      Enercon    E-82/2350             True          True\n",
      "15      Enercon    E-82/3000             True          True\n",
      "16      Enercon    E-92/2350             True          True\n",
      "17      Enercon      E48/800             True          True\n"
     ]
    }
   ],
   "source": [
    "# get power curves\n",
    "# get names of wind turbines for which power curves and/or are provided\n",
    "# set print_out=True to see the list of all available wind turbines\n",
    "df = wt.get_turbine_types(print_out=False)\n",
    "\n",
    "# find all Enercons\n",
    "print(df[df[\"manufacturer\"].str.contains(\"Enercon\")])"
   ]
  },
  {
   "cell_type": "code",
   "execution_count": 5,
   "metadata": {},
   "outputs": [
    {
     "name": "stdout",
     "output_type": "stream",
     "text": [
      "  manufacturer turbine_type  has_power_curve  has_cp_curve\n",
      "1      Enercon   E-101/3050             True          True\n",
      "2      Enercon   E-101/3500             True          True\n"
     ]
    }
   ],
   "source": [
    "# find all Enercon 101 turbines\n",
    "print(df[df[\"turbine_type\"].str.contains(\"E-101\")])"
   ]
  },
  {
   "cell_type": "code",
   "execution_count": 6,
   "metadata": {},
   "outputs": [],
   "source": [
    "# specification of wind turbine where power curve is provided in the \n",
    "# oedb turbine library\n",
    "\n",
    "enercon_e126 = {\n",
    "        'turbine_type': 'E-126/4200',  # turbine type as in oedb turbine library\n",
    "        'hub_height': 135  # in m\n",
    "    }\n",
    "# initialize WindTurbine object\n",
    "e126 = WindTurbine(**enercon_e126)"
   ]
  },
  {
   "cell_type": "code",
   "execution_count": 7,
   "metadata": {},
   "outputs": [],
   "source": [
    "# specification of own wind turbine (Note: power curve values and\n",
    "# nominal power have to be in Watt)\n",
    "my_turbine = {\n",
    "    'nominal_power': 3e6,  # in W\n",
    "    'hub_height': 105,  # in m\n",
    "    'power_curve': pd.DataFrame(\n",
    "            data={'value': [p * 1000 for p in [\n",
    "                      0.0, 26.0, 180.0, 1500.0, 3000.0, 3000.0]],  # in W\n",
    "                  'wind_speed': [0.0, 3.0, 5.0, 10.0, 15.0, 25.0]})  # in m/s\n",
    "    }  \n",
    "# initialize WindTurbine object\n",
    "my_turbine = WindTurbine(**my_turbine)"
   ]
  },
  {
   "cell_type": "code",
   "execution_count": 8,
   "metadata": {},
   "outputs": [],
   "source": [
    "# specification of wind turbine where power coefficient curve and nominal\n",
    "# power is provided in an own csv file\n",
    "\n",
    "# Read your turbine data from your data file using functions like\n",
    "# pandas.read_csv().\n",
    "# >>> import pandas as pd\n",
    "# >>> my_data = pd.read_csv(\"path/to/my/data/file\")\n",
    "# >>> my_power = my_data[\"my_power\"]\n",
    "# >>> my_wind_speed = my_data[\"my_wind_speed\"]\n",
    "    \n",
    "my_power = pd.Series(\n",
    "    [0.0, 39000.0, 270000.0, 2250000.0, 4500000.0, 4500000.0]\n",
    ")\n",
    "my_wind_speed = (0.0, 3.0, 5.0, 10.0, 15.0, 25.0)\n",
    "\n",
    "my_turbine2 = {\n",
    "    \"nominal_power\": 6e6,  # in W\n",
    "    \"hub_height\": 115,  # in m\n",
    "    \"power_curve\": create_power_curve(\n",
    "        wind_speed=my_wind_speed, power=my_power\n",
    "    ),\n",
    "}\n",
    "my_turbine2 = WindTurbine(**my_turbine2)"
   ]
  },
  {
   "cell_type": "markdown",
   "metadata": {},
   "source": [
    "### Use the ModelChain to calculate turbine power output\n",
    "\n",
    "The ModelChain is a class that provides all necessary steps to calculate the power output of a wind turbine. When calling the 'run_model' method, first the wind speed and density (if necessary) at hub height are calculated and then used to calculate the power output. You can either use the default methods for the calculation steps, as done for 'my_turbine', or choose different methods, as done for the 'e126'. Of course, you can also use the default methods while only changing one or two of them, as done for 'my_turbine2'."
   ]
  },
  {
   "cell_type": "code",
   "execution_count": 9,
   "metadata": {},
   "outputs": [
    {
     "name": "stderr",
     "output_type": "stream",
     "text": [
      "DEBUG:root:Calculating wind speed using logarithmic wind profile.\n",
      "DEBUG:root:Calculating temperature using temperature gradient.\n",
      "DEBUG:root:Calculating density using ideal gas equation.\n",
      "DEBUG:root:Calculating power output using power coefficient curve.\n"
     ]
    }
   ],
   "source": [
    "# power output calculation for e126\n",
    "\n",
    "# own specifications for ModelChain setup\n",
    "modelchain_data = {\n",
    "    'wind_speed_model': 'logarithmic',      # 'logarithmic' (default),\n",
    "                                            # 'hellman' or\n",
    "                                            # 'interpolation_extrapolation'\n",
    "    'density_model': 'ideal_gas',           # 'barometric' (default), 'ideal_gas'\n",
    "                                            #  or 'interpolation_extrapolation'\n",
    "    'temperature_model': 'linear_gradient', # 'linear_gradient' (def.) or\n",
    "                                            # 'interpolation_extrapolation'\n",
    "    'power_output_model':\n",
    "        'power_coefficient_curve',          # 'power_curve' (default) or\n",
    "                                            # 'power_coefficient_curve'\n",
    "    'density_correction': True,             # False (default) or True\n",
    "    'obstacle_height': 0,                   # default: 0\n",
    "    'hellman_exp': None}                    # None (default) or None\n",
    "\n",
    "# initialize ModelChain with own specifications and use run_model method to\n",
    "# calculate power output\n",
    "mc_e126 = ModelChain(e126, **modelchain_data).run_model(\n",
    "    weather)\n",
    "# write power output time series to WindTurbine object\n",
    "e126.power_output = mc_e126.power_output"
   ]
  },
  {
   "cell_type": "code",
   "execution_count": 10,
   "metadata": {},
   "outputs": [
    {
     "name": "stderr",
     "output_type": "stream",
     "text": [
      "DEBUG:root:Calculating wind speed using logarithmic wind profile.\n",
      "DEBUG:root:Calculating power output using power curve.\n"
     ]
    }
   ],
   "source": [
    "# power output calculation for my_turbine\n",
    "\n",
    "# initialize ModelChain with default parameters and use run_model\n",
    "# method to calculate power output\n",
    "mc_my_turbine = ModelChain(my_turbine).run_model(weather)\n",
    "# write power output time series to WindTurbine object\n",
    "my_turbine.power_output = mc_my_turbine.power_output"
   ]
  },
  {
   "cell_type": "code",
   "execution_count": 11,
   "metadata": {},
   "outputs": [
    {
     "name": "stderr",
     "output_type": "stream",
     "text": [
      "DEBUG:root:Calculating wind speed using hellman equation.\n",
      "DEBUG:root:Calculating power output using power curve.\n"
     ]
    }
   ],
   "source": [
    "# power output calculation for example_turbine\n",
    "# own specification for 'power_output_model'\n",
    "mc_example_turbine = ModelChain(\n",
    "    my_turbine2,\n",
    "    wind_speed_model='hellman').run_model(weather)\n",
    "my_turbine2.power_output = mc_example_turbine.power_output"
   ]
  },
  {
   "cell_type": "markdown",
   "metadata": {},
   "source": [
    "### Plot results\n",
    "\n",
    "If you have matplotlib installed you can visualize the calculated power output and used power (coefficient) curves."
   ]
  },
  {
   "cell_type": "code",
   "execution_count": 12,
   "metadata": {},
   "outputs": [],
   "source": [
    "# try to import matplotlib\n",
    "logging.getLogger().setLevel(logging.WARNING)\n",
    "try:\n",
    "    from matplotlib import pyplot as plt\n",
    "    # matplotlib inline needed in notebook to plot inline\n",
    "    %matplotlib inline \n",
    "except ImportError:\n",
    "    plt = None"
   ]
  },
  {
   "cell_type": "code",
   "execution_count": 13,
   "metadata": {},
   "outputs": [
    {
     "data": {
      "image/png": "[encoded data removed]",
      "text/plain": [
       "<Figure size 432x288 with 1 Axes>"
      ]
     },
     "metadata": {
      "needs_background": "light"
     },
     "output_type": "display_data"
    }
   ],
   "source": [
    "# plot turbine power output\n",
    "if plt:\n",
    "    e126.power_output.plot(legend=True, label='Enercon E126')\n",
    "    my_turbine.power_output.plot(legend=True, label='myTurbine')\n",
    "    my_turbine2.power_output.plot(legend=True, label='myTurbine2')\n",
    "    plt.xlabel('Time')\n",
    "    plt.ylabel('Power in W')\n",
    "    plt.show()"
   ]
  },
  {
   "cell_type": "code",
   "execution_count": 14,
   "metadata": {},
   "outputs": [
    {
     "data": {
      "image/png": "[encoded data removed]",
      "text/plain": [
       "<Figure size 432x288 with 1 Axes>"
      ]
     },
     "metadata": {
      "needs_background": "light"
     },
     "output_type": "display_data"
    },
    {
     "data": {
      "image/png": "[encoded data removed]",
      "text/plain": [
       "<Figure size 432x288 with 1 Axes>"
      ]
     },
     "metadata": {
      "needs_background": "light"
     },
     "output_type": "display_data"
    },
    {
     "data": {
      "image/png": "[encoded data removed]",
      "text/plain": [
       "<Figure size 432x288 with 1 Axes>"
      ]
     },
     "metadata": {
      "needs_background": "light"
     },
     "output_type": "display_data"
    },
    {
     "data": {
      "image/png": "[encoded data removed]",
      "text/plain": [
       "<Figure size 432x288 with 1 Axes>"
      ]
     },
     "metadata": {
      "needs_background": "light"
     },
     "output_type": "display_data"
    }
   ],
   "source": [
    "# plot power (coefficient) curves\n",
    "if plt:\n",
    "    if e126.power_coefficient_curve is not None:\n",
    "        e126.power_coefficient_curve.plot(\n",
    "            x='wind_speed', y='value', style='*',\n",
    "            title='Enercon E126 power coefficient curve')\n",
    "        plt.xlabel('Wind speed in m/s')\n",
    "        plt.ylabel('Power coefficient $\\mathrm{C}_\\mathrm{P}$')\n",
    "        plt.show()\n",
    "    if e126.power_curve is not None:\n",
    "        e126.power_curve.plot(x='wind_speed', y='value', style='*',\n",
    "                              title='Enercon E126 power curve')\n",
    "        plt.xlabel('Wind speed in m/s')\n",
    "        plt.ylabel('Power in W')\n",
    "        plt.show()\n",
    "    if my_turbine.power_coefficient_curve is not None:\n",
    "        my_turbine.power_coefficient_curve.plot(\n",
    "            x='wind_speed', y='value', style='*',\n",
    "            title='myTurbine power coefficient curve')\n",
    "        plt.xlabel('Wind speed in m/s')\n",
    "        plt.ylabel('Power in W')\n",
    "        plt.show()\n",
    "    if my_turbine.power_curve is not None:\n",
    "        my_turbine.power_curve.plot(x='wind_speed', y='value', style='*',\n",
    "                                    title='myTurbine power curve')\n",
    "        plt.xlabel('Wind speed in m/s')\n",
    "        plt.ylabel('Power in W')\n",
    "        plt.show()\n",
    "    if my_turbine2.power_coefficient_curve is not None:\n",
    "        my_turbine2.power_coefficient_curve.plot(\n",
    "            x='wind_speed', y='value', style='*',\n",
    "            title='myTurbine2 power coefficient curve')\n",
    "        plt.xlabel('Wind speed in m/s')\n",
    "        plt.ylabel('Power in W')\n",
    "        plt.show()\n",
    "    if my_turbine2.power_curve is not None:\n",
    "        my_turbine2.power_curve.plot(x='wind_speed', y='value', style='*',\n",
    "                                    title='myTurbine2 power curve')\n",
    "        plt.xlabel('Wind speed in m/s')\n",
    "        plt.ylabel('Power in W')\n",
    "        plt.show()"
   ]
  },
  {
   "cell_type": "code",
   "execution_count": null,
   "metadata": {},
   "outputs": [],
   "source": []
  }
 ],
 "metadata": {
  "kernelspec": {
   "display_name": "Python 3",
   "language": "python",
   "name": "python3"
  },
  "language_info": {
   "codemirror_mode": {
    "name": "ipython",
    "version": 3
   },
   "file_extension": ".py",
   "mimetype": "text/x-python",
   "name": "python",
   "nbconvert_exporter": "python",
   "pygments_lexer": "ipython3",
   "version": "3.6.9"
  }
 },
 "nbformat": 4,
 "nbformat_minor": 1
}
