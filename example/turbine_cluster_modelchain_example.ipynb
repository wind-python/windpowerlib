{
 "cells": [
  {
   "cell_type": "markdown",
   "metadata": {},
   "source": [
    "SPDX-FileCopyrightText: 2019 oemof developer group <contact@oemof.org>\n",
    "\n",
    "SPDX-License-Identifier: MIT\n",
    "\n",
    "SPDX-License-Identifier: CC-BY-4.0"
   ]
  },
  {
   "cell_type": "markdown",
   "metadata": {},
   "source": [
    "# TurbineClusterModelChain example\n",
    "\n",
    "This example shows you how to calculate the power output of wind farms and wind turbine clusters using the windpowerlib. A cluster can be useful if you want to calculate the feed-in of a region for which you want to use one single weather data point.\n",
    "\n",
    "Functions that are used in the ModelChain example, like the initialization of wind turbines, are imported and used without further explanation."
   ]
  },
  {
   "cell_type": "markdown",
   "metadata": {},
   "source": [
    "### Imports and initialization of wind turbines\n",
    "\n",
    "The import of weather data and the initialization of wind turbines are taken from the ``modelchain_example``. See there for more information.\n",
    "\n",
    "Also, be aware that currently for wind farm and wind cluster calculations wind turbines need to have a power curve as some calculations do not work with the power coefficient curve."
   ]
  },
  {
   "cell_type": "code",
   "execution_count": 1,
   "metadata": {},
   "outputs": [],
   "source": [
    "import os\n",
    "import pandas as pd\n",
    "import requests\n",
    "\n",
    "from windpowerlib import create_power_curve, TurbineClusterModelChain, WindFarm, WindTurbine, WindTurbineCluster\n",
    "\n",
    "import logging\n",
    "logging.getLogger().setLevel(logging.DEBUG)"
   ]
  },
  {
   "cell_type": "code",
   "execution_count": 2,
   "metadata": {},
   "outputs": [
    {
     "name": "stdout",
     "output_type": "stream",
     "text": [
      "variable_name             wind_speed          temperature         pressure\n",
      "height                            10       80           2      10        0\n",
      "2010-01-01 00:00:00+01:00    5.32697  7.80697      267.60  267.57  98405.7\n",
      "2010-01-01 01:00:00+01:00    5.46199  7.86199      267.60  267.55  98382.7\n",
      "2010-01-01 02:00:00+01:00    5.67899  8.59899      267.61  267.54  98362.9\n"
     ]
    }
   ],
   "source": [
    "def get_weather_data(filename='weather.csv', **kwargs):\n",
    "    r\"\"\"\n",
    "    Imports weather data from a file.\n",
    "\n",
    "    \"\"\"\n",
    "\n",
    "    if 'datapath' not in kwargs:\n",
    "        kwargs['datapath'] = os.path.dirname(__file__)\n",
    "    \n",
    "    file = os.path.join(kwargs['datapath'], filename)\n",
    "    \n",
    "    # download example weather data file in case it does not yet exist\n",
    "    if not os.path.isfile(file):\n",
    "        logging.debug(\"Download weather data for example.\")\n",
    "        req = requests.get(\"https://osf.io/59bqn/download\")\n",
    "        with open(file, \"wb\") as fout:\n",
    "            fout.write(req.content)\n",
    "            \n",
    "    # read csv file \n",
    "    weather_df = pd.read_csv(\n",
    "        file,\n",
    "        index_col=0,\n",
    "        header=[0, 1],\n",
    "    )\n",
    "    weather_df.index = pd.to_datetime(weather_df.index, utc=True)\n",
    "    \n",
    "    # change time zone\n",
    "    weather_df.index = weather_df.index.tz_convert(\n",
    "        'Europe/Berlin')\n",
    "    \n",
    "    return weather_df\n",
    "\n",
    "# Read weather data from csv\n",
    "weather = get_weather_data(filename='weather.csv', datapath='')\n",
    "print(weather[['wind_speed', 'temperature', 'pressure']][0:3])"
   ]
  },
  {
   "cell_type": "code",
   "execution_count": 3,
   "metadata": {},
   "outputs": [
    {
     "name": "stdout",
     "output_type": "stream",
     "text": [
      "Nominal power of my_turbine: 3000000.0\n"
     ]
    }
   ],
   "source": [
    "def initialize_wind_turbines():\n",
    "    r\"\"\"\n",
    "    Initializes three WindTurbine objects.\n",
    "\n",
    "    \"\"\"\n",
    "    enercon_e126 = {\n",
    "        \"turbine_type\": \"E-126/4200\",  # turbine type as in register\n",
    "        \"hub_height\": 135,  # in m\n",
    "    }\n",
    "    e126 = WindTurbine(**enercon_e126)\n",
    "\n",
    "    my_turbine = {\n",
    "        \"nominal_power\": 3e6,  # in W\n",
    "        \"hub_height\": 105,  # in m\n",
    "        \"power_curve\": pd.DataFrame(\n",
    "            data={\n",
    "                \"value\": [\n",
    "                    p * 1000\n",
    "                    for p in [0.0, 26.0, 180.0, 1500.0, 3000.0, 3000.0]\n",
    "                ],  # in W\n",
    "                \"wind_speed\": [0.0, 3.0, 5.0, 10.0, 15.0, 25.0],\n",
    "            }\n",
    "        ),  # in m/s\n",
    "    }\n",
    "    my_turbine = WindTurbine(**my_turbine)\n",
    "\n",
    "    my_power = pd.Series(\n",
    "        [0.0, 39000.0, 270000.0, 2250000.0, 4500000.0, 4500000.0]\n",
    "    )\n",
    "    my_wind_speed = (0.0, 3.0, 5.0, 10.0, 15.0, 25.0)\n",
    "\n",
    "    my_turbine2 = {\n",
    "        \"nominal_power\": 6e6,  # in W\n",
    "        \"hub_height\": 115,  # in m\n",
    "        \"power_curve\": create_power_curve(\n",
    "            wind_speed=my_wind_speed, power=my_power\n",
    "        ),\n",
    "    }\n",
    "    my_turbine2 = WindTurbine(**my_turbine2)\n",
    "\n",
    "    return my_turbine, e126, my_turbine2\n",
    "\n",
    "my_turbine, e126, my_turbine2 = initialize_wind_turbines()\n",
    "print('Nominal power of my_turbine: {}'.format(my_turbine.nominal_power))"
   ]
  },
  {
   "cell_type": "markdown",
   "metadata": {},
   "source": [
    "### Initialize wind farm\n",
    "\n",
    "To initialize a specific wind farm you need to provide a wind turbine fleet specifying the wind turbines and their number or total installed capacity (in Watt) in the farm. Optionally, you can specify a wind farm efficiency and a name as an identifier."
   ]
  },
  {
   "cell_type": "code",
   "execution_count": 3,
   "metadata": {},
   "outputs": [],
   "source": [
    "# specification of wind farm data where turbine fleet is provided in a\n",
    "# pandas.DataFrame\n",
    "# for each turbine type you can either specify the number of turbines of\n",
    "# that type in the wind farm (float values are possible as well) or the\n",
    "# total installed capacity of that turbine type in W\n",
    "wind_turbine_fleet = pd.DataFrame(\n",
    "        {'wind_turbine': [my_turbine, e126],  # as windpowerlib.WindTurbine\n",
    "         'number_of_turbines': [6, None],\n",
    "         'total_capacity': [None, 12.6e6]}\n",
    "    )\n",
    "# initialize WindFarm object\n",
    "example_farm = WindFarm(name='example_farm',\n",
    "                        wind_turbine_fleet=wind_turbine_fleet)"
   ]
  },
  {
   "cell_type": "markdown",
   "metadata": {},
   "source": [
    "Following, a wind farm with a constant efficiency is defined. A wind farm efficiency can also be dependent on the wind speed in which case it needs to be provided as a dataframe with 'wind_speed' and 'efficiency' columns containing wind speeds in m/s and the corresponding dimensionless wind farm efficiency."
   ]
  },
  {
   "cell_type": "code",
   "execution_count": 4,
   "metadata": {},
   "outputs": [
    {
     "name": "stdout",
     "output_type": "stream",
     "text": [
      "nominal power of first turbine type of example_farm_2: 3000000.0\n"
     ]
    }
   ],
   "source": [
    "# specification of wind farm data (2) containing a wind farm efficiency\n",
    "# wind turbine fleet is provided using the to_group function\n",
    "example_farm_2_data = {\n",
    "    'name': 'example_farm_2',\n",
    "    'wind_turbine_fleet': [my_turbine.to_group(6),\n",
    "                           e126.to_group(total_capacity=12.6e6)],\n",
    "    'efficiency': 0.9}\n",
    "\n",
    "# initialize WindFarm object\n",
    "example_farm_2 = WindFarm(**example_farm_2_data)\n",
    "\n",
    "print('nominal power of first turbine type of example_farm_2: {}'.format(\n",
    "    example_farm_2.wind_turbine_fleet.loc[0, 'wind_turbine'].nominal_power))"
   ]
  },
  {
   "cell_type": "markdown",
   "metadata": {},
   "source": [
    "### Initialize wind turbine cluster\n",
    "\n",
    "Like for a wind farm for the initialization of a wind turbine cluster you can use a dictionary that contains the basic parameters. A wind turbine cluster is defined by its wind farms."
   ]
  },
  {
   "cell_type": "code",
   "execution_count": 5,
   "metadata": {},
   "outputs": [],
   "source": [
    "# specification of cluster data\n",
    "example_cluster_data = {\n",
    "    'name': 'example_cluster',\n",
    "    'wind_farms': [example_farm, example_farm_2]}\n",
    "\n",
    "# initialize WindTurbineCluster object\n",
    "example_cluster = WindTurbineCluster(**example_cluster_data)\n"
   ]
  },
  {
   "cell_type": "markdown",
   "metadata": {},
   "source": [
    "### Use the TurbineClusterModelChain to calculate power output\n",
    "\n",
    "The TurbineClusterModelChain is a class that provides all necessary steps to calculate the power output of a wind farm or wind turbine cluster. \n",
    "\n",
    "Like the ModelChain (see [basic example](modelchain_example_notebook.ipynb)) you can use the TurbineClusterModelChain with default parameters as shown in this example for the wind farm or specify custom parameters as done here for the cluster.\n",
    "If you use the 'run_model' method first the aggregated power curve and the mean hub height of the wind farm/cluster is calculated, then inherited functions of the ModelChain are used to calculate the wind speed and density (if necessary) at hub height. After that, depending on the parameters, wake losses are applied and at last the power output is calculated."
   ]
  },
  {
   "cell_type": "code",
   "execution_count": 6,
   "metadata": {},
   "outputs": [
    {
     "name": "stderr",
     "output_type": "stream",
     "text": [
      "DEBUG:root:Wake losses considered by dena_mean wind efficiency curve.\n",
      "DEBUG:root:Aggregated power curve not smoothed.\n",
      "DEBUG:root:Calculating wind speed using logarithmic wind profile.\n",
      "DEBUG:root:Calculating power output using power curve.\n"
     ]
    }
   ],
   "source": [
    "# power output calculation for example_farm\n",
    "# initialize TurbineClusterModelChain with default parameters and use\n",
    "# run_model method to calculate power output\n",
    "mc_example_farm = TurbineClusterModelChain(example_farm).run_model(weather)\n",
    "# write power output time series to WindFarm object\n",
    "example_farm.power_output = mc_example_farm.power_output "
   ]
  },
  {
   "cell_type": "code",
   "execution_count": 7,
   "metadata": {},
   "outputs": [
    {
     "name": "stderr",
     "output_type": "stream",
     "text": [
      "DEBUG:root:Wake losses considered with wind_farm_efficiency.\n",
      "DEBUG:root:Aggregated power curve smoothed by method: Staffell_Pfenninger\n",
      "DEBUG:root:Calculating wind speed using logarithmic wind profile.\n",
      "DEBUG:root:Calculating temperature using temperature gradient.\n",
      "DEBUG:root:Calculating density using ideal gas equation.\n",
      "DEBUG:root:Calculating power output using power curve.\n"
     ]
    }
   ],
   "source": [
    "# set efficiency of example_farm to apply wake losses\n",
    "example_farm.efficiency = 0.9\n",
    "\n",
    "# power output calculation for turbine_cluster\n",
    "# own specifications for TurbineClusterModelChain setup\n",
    "modelchain_data = {\n",
    "        'wake_losses_model': 'wind_farm_efficiency',  #\n",
    "                                           # 'dena_mean' (default), None,\n",
    "                                           # 'wind_farm_efficiency' or name\n",
    "                                           #  of another wind efficiency curve\n",
    "                #  see :py:func:`~.wake_losses.get_wind_efficiency_curve`\n",
    "        'smoothing': True,  # False (default) or True\n",
    "        'block_width': 0.5,  # default: 0.5\n",
    "        'standard_deviation_method': 'Staffell_Pfenninger',  #\n",
    "                                            # 'turbulence_intensity' (default)\n",
    "                                            # or 'Staffell_Pfenninger'\n",
    "        'smoothing_order': 'wind_farm_power_curves',  #\n",
    "                                        # 'wind_farm_power_curves' (default) or\n",
    "                                        # 'turbine_power_curves'\n",
    "        'wind_speed_model': 'logarithmic',  # 'logarithmic' (default),\n",
    "                                            # 'hellman' or\n",
    "                                            # 'interpolation_extrapolation'\n",
    "        'density_model': 'ideal_gas',  # 'barometric' (default), 'ideal_gas' or\n",
    "                                       # 'interpolation_extrapolation'\n",
    "        'temperature_model': 'linear_gradient',  # 'linear_gradient' (def.) or\n",
    "                                                 # 'interpolation_extrapolation'\n",
    "        'power_output_model': 'power_curve',  # 'power_curve' (default) or\n",
    "                                              # 'power_coefficient_curve'\n",
    "        'density_correction': True,  # False (default) or True\n",
    "        'obstacle_height': 0,  # default: 0\n",
    "        'hellman_exp': None}  # None (default) or None\n",
    "\n",
    "# initialize TurbineClusterModelChain with own specifications and use\n",
    "# run_model method to calculate power output\n",
    "mc_example_cluster = TurbineClusterModelChain(\n",
    "        example_cluster, **modelchain_data).run_model(weather)\n",
    "# write power output time series to WindTurbineCluster object\n",
    "example_cluster.power_output = mc_example_cluster.power_output"
   ]
  },
  {
   "cell_type": "markdown",
   "metadata": {},
   "source": [
    "### Plot results\n",
    "\n",
    "If you have matplotlib installed you can visualize the calculated power output."
   ]
  },
  {
   "cell_type": "code",
   "execution_count": 8,
   "metadata": {},
   "outputs": [],
   "source": [
    "# try to import matplotlib\n",
    "logging.getLogger().setLevel(logging.WARNING)\n",
    "try:\n",
    "    from matplotlib import pyplot as plt\n",
    "    # matplotlib inline needed in notebook to plot inline\n",
    "    %matplotlib inline \n",
    "except ImportError:\n",
    "    plt = None"
   ]
  },
  {
   "cell_type": "code",
   "execution_count": 9,
   "metadata": {},
   "outputs": [
    {
     "data": {
      "image/png": "[encoded data removed]",
      "text/plain": [
       "<Figure size 432x288 with 1 Axes>"
      ]
     },
     "metadata": {
      "needs_background": "light"
     },
     "output_type": "display_data"
    }
   ],
   "source": [
    "# plot turbine power output\n",
    "if plt:\n",
    "    example_cluster.power_output.plot(legend=True, label='example cluster')\n",
    "    example_farm.power_output.plot(legend=True, label='example farm')\n",
    "    plt.xlabel('Wind speed in m/s')\n",
    "    plt.ylabel('Power in W')\n",
    "    plt.show()"
   ]
  },
  {
   "cell_type": "code",
   "execution_count": 10,
   "metadata": {},
   "outputs": [
    {
     "data": {
      "image/png": "[encoded data removed]",
      "text/plain": [
       "<Figure size 432x288 with 1 Axes>"
      ]
     },
     "metadata": {
      "needs_background": "light"
     },
     "output_type": "display_data"
    }
   ],
   "source": [
    "# plot aggregated (and smoothed) power curve of example_cluster\n",
    "if plt:\n",
    "    example_cluster.power_curve.plot(\n",
    "        x='wind_speed', y='value', style='*')\n",
    "    plt.xlabel('Wind speed in m/s')\n",
    "    plt.ylabel('Power in W')\n",
    "    plt.show()"
   ]
  },
  {
   "cell_type": "code",
   "execution_count": null,
   "metadata": {},
   "outputs": [],
   "source": []
  }
 ],
 "metadata": {
  "kernelspec": {
   "display_name": "Python 3",
   "language": "python",
   "name": "python3"
  },
  "language_info": {
   "codemirror_mode": {
    "name": "ipython",
    "version": 3
   },
   "file_extension": ".py",
   "mimetype": "text/x-python",
   "name": "python",
   "nbconvert_exporter": "python",
   "pygments_lexer": "ipython3",
   "version": "3.6.9"
  }
 },
 "nbformat": 4,
 "nbformat_minor": 1
}
